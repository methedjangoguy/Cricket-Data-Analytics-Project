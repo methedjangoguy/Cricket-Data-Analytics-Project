{
 "cells": [
  {
   "cell_type": "code",
   "execution_count": null,
   "metadata": {},
   "outputs": [],
   "source": [
    "# import librarires\n",
    "import pandas as pd\n",
    "import json\n",
    "\n",
    "# CSV File Paths\n",
    "espn_t20_wc_2022_results_csv_file_path = r\"E:\\Work\\Personal\\Codes\\Python Codes\\Cricket Data Analytics Project\\archive\\csv\\t20_wc_match_results.csv\"\n",
    "batting_summary_csv_file_path = r\"E:\\Work\\Personal\\Codes\\Python Codes\\Cricket Data Analytics Project\\archive\\csv\\t20_wc_batting_summary.csv\"\n",
    "bowling_summary_csv_file_path = r\"E:\\Work\\Personal\\Codes\\Python Codes\\Cricket Data Analytics Project\\archive\\csv\\t20_wc_bowling_summary.csv\"\n",
    "player_details_csv_file_path = r\"E:\\Work\\Personal\\Codes\\Python Codes\\Cricket Data Analytics Project\\archive\\csv\\t20_wc_player_info.csv\"\n",
    "\n",
    "# JSON File Paths\n",
    "espn_t20_wc_2022_results_json_filepath = r\"E:\\Work\\Personal\\Codes\\Python Codes\\Cricket Data Analytics Project\\archive\\json\\t20_wc_match_results.json\"\n",
    "batting_summary_json_file_path = r\"E:\\Work\\Personal\\Codes\\Python Codes\\Cricket Data Analytics Project\\archive\\json\\t20_wc_batting_summary.json\"\n",
    "bowling_summary_json_file_path = r\"E:\\Work\\Personal\\Codes\\Python Codes\\Cricket Data Analytics Project\\archive\\json\\t20_wc_bowling_summary.json\"\n",
    "player_details_json_file_path = r\"E:\\Work\\Personal\\Codes\\Python Codes\\Cricket Data Analytics Project\\archive\\json\\t20_wc_player_info.json\"\n",
    "scorecard_urls_json_file_path = r\"E:\\Work\\Personal\\Codes\\Python Codes\\Cricket Data Analytics Project\\archive\\json\\scorecard_urls.json\""
   ]
  },
  {
   "cell_type": "code",
   "execution_count": null,
   "metadata": {},
   "outputs": [
    {
     "data": {
      "text/plain": [
       "[{'matchSummary': [{'Team 1': 'England', 'Team 2': 'Pakistan', 'Winner': 'England', 'Margin': '5 wickets', 'Ground': 'Melbourne', 'Match Date': 'Nov 13, 2022', 'Scorecard': 'T20I # 1879'}, {'Team 1': 'England', 'Team 2': 'India', 'Winner': 'England', 'Margin': '10 wickets', 'Ground': 'Adelaide', 'Match Date': 'Nov 10, 2022', 'Scorecard': 'T20I # 1878'}, {'Team 1': 'New Zealand', 'Team 2': 'Pakistan', 'Winner': 'Pakistan', 'Margin': '7 wickets', 'Ground': 'Sydney', 'Match Date': 'Nov 9, 2022', 'Scorecard': 'T20I # 1877'}, {'Team 1': 'India', 'Team 2': 'Zimbabwe', 'Winner': 'India', 'Margin': '71 runs', 'Ground': 'Melbourne', 'Match Date': 'Nov 6, 2022', 'Scorecard': 'T20I # 1873'}, {'Team 1': 'Bangladesh', 'Team 2': 'Pakistan', 'Winner': 'Pakistan', 'Margin': '5 wickets', 'Ground': 'Adelaide', 'Match Date': 'Nov 6, 2022', 'Scorecard': 'T20I # 1872'}, {'Team 1': 'Netherlands', 'Team 2': 'South Africa', 'Winner': 'Netherlands', 'Margin': '13 runs', 'Ground': 'Adelaide', 'Match Date': 'Nov 6, 2022', 'Scorecard': 'T20I # 1871'}, {'Team 1': 'England', 'Team 2': 'Sri Lanka', 'Winner': 'England', 'Margin': '4 wickets', 'Ground': 'Sydney', 'Match Date': 'Nov 5, 2022', 'Scorecard': 'T20I # 1867'}, {'Team 1': 'Australia', 'Team 2': 'Afghanistan', 'Winner': 'Australia', 'Margin': '4 runs', 'Ground': 'Adelaide', 'Match Date': 'Nov 4, 2022', 'Scorecard': 'T20I # 1864'}, {'Team 1': 'Ireland', 'Team 2': 'New Zealand', 'Winner': 'New Zealand', 'Margin': '35 runs', 'Ground': 'Adelaide', 'Match Date': 'Nov 4, 2022', 'Scorecard': 'T20I # 1862'}, {'Team 1': 'Pakistan', 'Team 2': 'South Africa', 'Winner': 'Pakistan', 'Margin': '33 runs', 'Ground': 'Sydney', 'Match Date': 'Nov 3, 2022', 'Scorecard': 'T20I # 1861'}, {'Team 1': 'Bangladesh', 'Team 2': 'India', 'Winner': 'India', 'Margin': '5 runs', 'Ground': 'Adelaide', 'Match Date': 'Nov 2, 2022', 'Scorecard': 'T20I # 1860'}, {'Team 1': 'Netherlands', 'Team 2': 'Zimbabwe', 'Winner': 'Netherlands', 'Margin': '5 wickets', 'Ground': 'Adelaide', 'Match Date': 'Nov 2, 2022', 'Scorecard': 'T20I # 1859'}, {'Team 1': 'England', 'Team 2': 'New Zealand', 'Winner': 'England', 'Margin': '20 runs', 'Ground': 'Brisbane', 'Match Date': 'Nov 1, 2022', 'Scorecard': 'T20I # 1858'}, {'Team 1': 'Afghanistan', 'Team 2': 'Sri Lanka', 'Winner': 'Sri Lanka', 'Margin': '6 wickets', 'Ground': 'Brisbane', 'Match Date': 'Nov 1, 2022', 'Scorecard': 'T20I # 1856'}, {'Team 1': 'Australia', 'Team 2': 'Ireland', 'Winner': 'Australia', 'Margin': '42 runs', 'Ground': 'Brisbane', 'Match Date': 'Oct 31, 2022', 'Scorecard': 'T20I # 1855'}, {'Team 1': 'India', 'Team 2': 'South Africa', 'Winner': 'South Africa', 'Margin': '5 wickets', 'Ground': 'Perth', 'Match Date': 'Oct 30, 2022', 'Scorecard': 'T20I # 1853'}, {'Team 1': 'Netherlands', 'Team 2': 'Pakistan', 'Winner': 'Pakistan', 'Margin': '6 wickets', 'Ground': 'Perth', 'Match Date': 'Oct 30, 2022', 'Scorecard': 'T20I # 1852'}, {'Team 1': 'Bangladesh', 'Team 2': 'Zimbabwe', 'Winner': 'Bangladesh', 'Margin': '3 runs', 'Ground': 'Brisbane', 'Match Date': 'Oct 30, 2022', 'Scorecard': 'T20I # 1851'}, {'Team 1': 'New Zealand', 'Team 2': 'Sri Lanka', 'Winner': 'New Zealand', 'Margin': '65 runs', 'Ground': 'Sydney', 'Match Date': 'Oct 29, 2022', 'Scorecard': 'T20I # 1850'}, {'Team 1': 'Pakistan', 'Team 2': 'Zimbabwe', 'Winner': 'Zimbabwe', 'Margin': '1 run', 'Ground': 'Perth', 'Match Date': 'Oct 27, 2022', 'Scorecard': 'T20I # 1849'}, {'Team 1': 'India', 'Team 2': 'Netherlands', 'Winner': 'India', 'Margin': '56 runs', 'Ground': 'Sydney', 'Match Date': 'Oct 27, 2022', 'Scorecard': 'T20I # 1848'}, {'Team 1': 'Bangladesh', 'Team 2': 'South Africa', 'Winner': 'South Africa', 'Margin': '104 runs', 'Ground': 'Sydney', 'Match Date': 'Oct 27, 2022', 'Scorecard': 'T20I # 1847'}, {'Team 1': 'England', 'Team 2': 'Ireland', 'Winner': 'Ireland', 'Margin': '5 runs', 'Ground': 'Melbourne', 'Match Date': 'Oct 26, 2022', 'Scorecard': 'T20I # 1846'}, {'Team 1': 'Australia', 'Team 2': 'Sri Lanka', 'Winner': 'Australia', 'Margin': '7 wickets', 'Ground': 'Perth', 'Match Date': 'Oct 25, 2022', 'Scorecard': 'T20I # 1845'}, {'Team 1': 'South Africa', 'Team 2': 'Zimbabwe', 'Winner': 'no result', 'Margin': '-', 'Ground': 'Hobart', 'Match Date': 'Oct 24, 2022', 'Scorecard': 'T20I # 1844'}, {'Team 1': 'Bangladesh', 'Team 2': 'Netherlands', 'Winner': 'Bangladesh', 'Margin': '9 runs', 'Ground': 'Hobart', 'Match Date': 'Oct 24, 2022', 'Scorecard': 'T20I # 1843'}, {'Team 1': 'India', 'Team 2': 'Pakistan', 'Winner': 'India', 'Margin': '4 wickets', 'Ground': 'Melbourne', 'Match Date': 'Oct 23, 2022', 'Scorecard': 'T20I # 1842'}, {'Team 1': 'Ireland', 'Team 2': 'Sri Lanka', 'Winner': 'Sri Lanka', 'Margin': '9 wickets', 'Ground': 'Hobart', 'Match Date': 'Oct 23, 2022', 'Scorecard': 'T20I # 1841'}, {'Team 1': 'Afghanistan', 'Team 2': 'England', 'Winner': 'England', 'Margin': '5 wickets', 'Ground': 'Perth', 'Match Date': 'Oct 22, 2022', 'Scorecard': 'T20I # 1840'}, {'Team 1': 'Australia', 'Team 2': 'New Zealand', 'Winner': 'New Zealand', 'Margin': '89 runs', 'Ground': 'Sydney', 'Match Date': 'Oct 22, 2022', 'Scorecard': 'T20I # 1839'}, {'Team 1': 'Scotland', 'Team 2': 'Zimbabwe', 'Winner': 'Zimbabwe', 'Margin': '5 wickets', 'Ground': 'Hobart', 'Match Date': 'Oct 21, 2022', 'Scorecard': 'T20I # 1838'}, {'Team 1': 'Ireland', 'Team 2': 'West Indies', 'Winner': 'Ireland', 'Margin': '9 wickets', 'Ground': 'Hobart', 'Match Date': 'Oct 21, 2022', 'Scorecard': 'T20I # 1837'}, {'Team 1': 'Namibia', 'Team 2': 'U.A.E.', 'Winner': 'U.A.E.', 'Margin': '7 runs', 'Ground': 'Geelong', 'Match Date': 'Oct 20, 2022', 'Scorecard': 'T20I # 1836'}, {'Team 1': 'Netherlands', 'Team 2': 'Sri Lanka', 'Winner': 'Sri Lanka', 'Margin': '16 runs', 'Ground': 'Geelong', 'Match Date': 'Oct 20, 2022', 'Scorecard': 'T20I # 1835'}, {'Team 1': 'West Indies', 'Team 2': 'Zimbabwe', 'Winner': 'West Indies', 'Margin': '31 runs', 'Ground': 'Hobart', 'Match Date': 'Oct 19, 2022', 'Scorecard': 'T20I # 1834'}, {'Team 1': 'Ireland', 'Team 2': 'Scotland', 'Winner': 'Ireland', 'Margin': '6 wickets', 'Ground': 'Hobart', 'Match Date': 'Oct 19, 2022', 'Scorecard': 'T20I # 1833'}, {'Team 1': 'Sri Lanka', 'Team 2': 'U.A.E.', 'Winner': 'Sri Lanka', 'Margin': '79 runs', 'Ground': 'Geelong', 'Match Date': 'Oct 18, 2022', 'Scorecard': 'T20I # 1832'}, {'Team 1': 'Namibia', 'Team 2': 'Netherlands', 'Winner': 'Netherlands', 'Margin': '5 wickets', 'Ground': 'Geelong', 'Match Date': 'Oct 18, 2022', 'Scorecard': 'T20I # 1830'}, {'Team 1': 'Ireland', 'Team 2': 'Zimbabwe', 'Winner': 'Zimbabwe', 'Margin': '31 runs', 'Ground': 'Hobart', 'Match Date': 'Oct 17, 2022', 'Scorecard': 'T20I # 1828'}, {'Team 1': 'Scotland', 'Team 2': 'West Indies', 'Winner': 'Scotland', 'Margin': '42 runs', 'Ground': 'Hobart', 'Match Date': 'Oct 17, 2022', 'Scorecard': 'T20I # 1826'}, {'Team 1': 'Netherlands', 'Team 2': 'U.A.E.', 'Winner': 'Netherlands', 'Margin': '3 wickets', 'Ground': 'Geelong', 'Match Date': 'Oct 16, 2022', 'Scorecard': 'T20I # 1825'}, {'Team 1': 'Namibia', 'Team 2': 'Sri Lanka', 'Winner': 'Namibia', 'Margin': '55 runs', 'Ground': 'Geelong', 'Match Date': 'Oct 16, 2022', 'Scorecard': 'T20I # 1823'}]}]\n",
       "Length of the data: 1\n"
      ]
     },
     "metadata": {},
     "output_type": "display_data"
    }
   ],
   "source": [
    "# open the espn_t20_wc_2022_results_json_file\n",
    "with open(espn_t20_wc_2022_results_json_filepath, encoding=\"utf-8\") as file:\n",
    "    data = json.load(file)\n",
    "print(data)\n",
    "print(f\"Length of the data: {len(data)}\")"
   ]
  },
  {
   "cell_type": "code",
   "execution_count": null,
   "metadata": {},
   "outputs": [
    {
     "data": {
      "text/plain": [
       "        Team 1    Team 2    Winner  ...     Ground    Match Date    Scorecard\n",
       "0      England  Pakistan   England  ...  Melbourne  Nov 13, 2022  T20I # 1879\n",
       "1      England     India   England  ...   Adelaide  Nov 10, 2022  T20I # 1878\n",
       "2  New Zealand  Pakistan  Pakistan  ...     Sydney   Nov 9, 2022  T20I # 1877\n",
       "3        India  Zimbabwe     India  ...  Melbourne   Nov 6, 2022  T20I # 1873\n",
       "4   Bangladesh  Pakistan  Pakistan  ...   Adelaide   Nov 6, 2022  T20I # 1872\n",
       "\n",
       "[5 rows x 7 columns]\n"
      ]
     },
     "metadata": {},
     "output_type": "display_data"
    }
   ],
   "source": [
    "dataframe = data[0]['matchSummary']\n",
    "# print(dataframe)\n",
    "dataframe_match = pd.DataFrame(dataframe)\n",
    "print(dataframe_match.head())"
   ]
  },
  {
   "cell_type": "code",
   "execution_count": null,
   "metadata": {},
   "outputs": [],
   "source": []
  }
 ],
 "metadata": {
  "language_info": {
   "name": "python"
  }
 },
 "nbformat": 4,
 "nbformat_minor": 2
}
